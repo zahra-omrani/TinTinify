{
 "cells": [
  {
   "cell_type": "markdown",
   "metadata": {},
   "source": [
    "## Preprocessing"
   ]
  },
  {
   "cell_type": "code",
   "execution_count": 2,
   "metadata": {},
   "outputs": [
    {
     "name": "stderr",
     "output_type": "stream",
     "text": [
      "[nltk_data] Downloading package stopwords to /home/elahe/nltk_data...\n",
      "[nltk_data]   Package stopwords is already up-to-date!\n",
      "Processing Documents: 8841823it [1:10:51, 2079.65it/s]\n"
     ]
    },
    {
     "name": "stdout",
     "output_type": "stream",
     "text": [
      "Preprocessed data saved to preprocessed_data.json\n"
     ]
    }
   ],
   "source": [
    "import tarfile\n",
    "import csv\n",
    "import re\n",
    "import nltk\n",
    "from nltk.corpus import stopwords\n",
    "from nltk.stem import SnowballStemmer\n",
    "from tqdm import tqdm\n",
    "import json\n",
    "\n",
    "# Download necessary NLTK resources\n",
    "nltk.download('stopwords')\n",
    "\n",
    "# Define helper functions\n",
    "def preprocess_text(text):\n",
    "    # Convert to lowercase\n",
    "    text = text.lower()\n",
    "    # Remove non-alphanumeric characters (keeping ASCII letters and spaces)\n",
    "    text = re.sub(r\"[^a-z\\s]\", \" \", text)\n",
    "    # Tokenize text\n",
    "    tokens = text.split()\n",
    "    # Remove stopwords\n",
    "    stop_words = set(stopwords.words('english'))\n",
    "    tokens = [word for word in tokens if word not in stop_words]\n",
    "    # Apply stemming\n",
    "    stemmer = SnowballStemmer(\"english\")\n",
    "    tokens = [stemmer.stem(word) for word in tokens]\n",
    "    return \" \".join(tokens)\n",
    "\n",
    "# File paths\n",
    "tar_path = \"/home/elahe/Desktop/UniPisa/IR/TinTinfy/collection.tar.gz\"  # Update with your file path\n",
    "output_file = \"preprocessed_data.json\"\n",
    "\n",
    "# Extract the tar.gz file\n",
    "with tarfile.open(tar_path, \"r:gz\") as tar:\n",
    "    tar.extractall()\n",
    "\n",
    "# Process the extracted file\n",
    "input_file = \"collection.tsv\"  # The extracted file name\n",
    "preprocessed_data = []\n",
    "\n",
    "with open(input_file, \"r\", encoding=\"utf-8\") as file:\n",
    "    reader = csv.reader(file, delimiter=\"\\t\")\n",
    "    for line in tqdm(reader, desc=\"Processing Documents\"):\n",
    "        try:\n",
    "            # Ensure line has both pid and text\n",
    "            if len(line) != 2:\n",
    "                continue\n",
    "            pid, text = line\n",
    "            # Preprocess the text\n",
    "            cleaned_text = preprocess_text(text)\n",
    "            # Skip empty or too short documents\n",
    "            if len(cleaned_text.split()) < 5:\n",
    "                continue\n",
    "            # Append to result\n",
    "            preprocessed_data.append({\"pid\": pid, \"text\": cleaned_text})\n",
    "        except Exception as e:\n",
    "            # Log and skip malformed lines\n",
    "            print(f\"Error processing line: {line} - {e}\")\n",
    "\n",
    "# Save preprocessed data\n",
    "with open(output_file, \"w\", encoding=\"utf-8\") as outfile:\n",
    "    json.dump(preprocessed_data, outfile, ensure_ascii=False, indent=4)\n",
    "\n",
    "print(f\"Preprocessed data saved to {output_file}\")\n"
   ]
  },
  {
   "cell_type": "code",
   "execution_count": null,
   "metadata": {},
   "outputs": [],
   "source": []
  }
 ],
 "metadata": {
  "kernelspec": {
   "display_name": "develop-57Ft6pto",
   "language": "python",
   "name": "python3"
  },
  "language_info": {
   "codemirror_mode": {
    "name": "ipython",
    "version": 3
   },
   "file_extension": ".py",
   "mimetype": "text/x-python",
   "name": "python",
   "nbconvert_exporter": "python",
   "pygments_lexer": "ipython3",
   "version": "3.11.6"
  }
 },
 "nbformat": 4,
 "nbformat_minor": 2
}
